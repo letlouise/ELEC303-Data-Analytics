{
  "metadata": {
    "kernelspec": {
      "name": "python",
      "display_name": "Python (Pyodide)",
      "language": "python"
    },
    "language_info": {
      "codemirror_mode": {
        "name": "python",
        "version": 3
      },
      "file_extension": ".py",
      "mimetype": "text/x-python",
      "name": "python",
      "nbconvert_exporter": "python",
      "pygments_lexer": "ipython3",
      "version": "3.8"
    }
  },
  "nbformat_minor": 5,
  "nbformat": 4,
  "cells": [
    {
      "id": "c67af658-8651-41dd-a7ac-f1f009a43ca2",
      "cell_type": "markdown",
      "source": "<h1>ACTIVITY 1 : PALMER PENGUINS DATA ANALYTICS PROJECT</h1>\n<hr>\n<h3>Analyst : John Louise J. Ancaja</h3>",
      "metadata": {}
    },
    {
      "id": "60295043-fd08-426b-ac11-4e09206a0d9e",
      "cell_type": "code",
      "source": "import pandas as pd\nimport numpy as np\nimport warnings\nwarnings.filterwarnings('ignore')",
      "metadata": {
        "trusted": true
      },
      "outputs": [],
      "execution_count": 1
    },
    {
      "id": "bbbce5ea-9736-4ad7-ae5f-cd5732d34ae6",
      "cell_type": "markdown",
      "source": "<h2>Converting Datasets to DataFrames</h2>\n<br>\n<h2>Requirements</h2>\n<ul>\n    <li>DataFrame name</li>\n    <li>File Path</li>\n</ul>",
      "metadata": {}
    },
    {
      "id": "ef8c4504-af9d-4a74-849e-7b871f536f2f",
      "cell_type": "code",
      "source": "penguins = pd.read_csv(\"datasets\\\\penguins.csv\")",
      "metadata": {
        "trusted": true,
        "scrolled": true
      },
      "outputs": [
        {
          "ename": "<class 'FileNotFoundError'>",
          "evalue": "[Errno 44] No such file or directory: 'datasets\\\\penguins.csv'",
          "traceback": [
            "\u001b[0;31m---------------------------------------------------------------------------\u001b[0m",
            "\u001b[0;31mFileNotFoundError\u001b[0m                         Traceback (most recent call last)",
            "Cell \u001b[0;32mIn[2], line 1\u001b[0m\n\u001b[0;32m----> 1\u001b[0m penguins \u001b[38;5;241m=\u001b[39m \u001b[43mpd\u001b[49m\u001b[38;5;241;43m.\u001b[39;49m\u001b[43mread_csv\u001b[49m\u001b[43m(\u001b[49m\u001b[38;5;124;43m\"\u001b[39;49m\u001b[38;5;124;43mdatasets\u001b[39;49m\u001b[38;5;130;43;01m\\\\\u001b[39;49;00m\u001b[38;5;124;43mpenguins.csv\u001b[39;49m\u001b[38;5;124;43m\"\u001b[39;49m\u001b[43m)\u001b[49m\n",
            "File \u001b[0;32m/lib/python3.12/site-packages/pandas/io/parsers/readers.py:1026\u001b[0m, in \u001b[0;36mread_csv\u001b[0;34m(filepath_or_buffer, sep, delimiter, header, names, index_col, usecols, dtype, engine, converters, true_values, false_values, skipinitialspace, skiprows, skipfooter, nrows, na_values, keep_default_na, na_filter, verbose, skip_blank_lines, parse_dates, infer_datetime_format, keep_date_col, date_parser, date_format, dayfirst, cache_dates, iterator, chunksize, compression, thousands, decimal, lineterminator, quotechar, quoting, doublequote, escapechar, comment, encoding, encoding_errors, dialect, on_bad_lines, delim_whitespace, low_memory, memory_map, float_precision, storage_options, dtype_backend)\u001b[0m\n\u001b[1;32m   1013\u001b[0m kwds_defaults \u001b[38;5;241m=\u001b[39m _refine_defaults_read(\n\u001b[1;32m   1014\u001b[0m     dialect,\n\u001b[1;32m   1015\u001b[0m     delimiter,\n\u001b[0;32m   (...)\u001b[0m\n\u001b[1;32m   1022\u001b[0m     dtype_backend\u001b[38;5;241m=\u001b[39mdtype_backend,\n\u001b[1;32m   1023\u001b[0m )\n\u001b[1;32m   1024\u001b[0m kwds\u001b[38;5;241m.\u001b[39mupdate(kwds_defaults)\n\u001b[0;32m-> 1026\u001b[0m \u001b[38;5;28;01mreturn\u001b[39;00m \u001b[43m_read\u001b[49m\u001b[43m(\u001b[49m\u001b[43mfilepath_or_buffer\u001b[49m\u001b[43m,\u001b[49m\u001b[43m \u001b[49m\u001b[43mkwds\u001b[49m\u001b[43m)\u001b[49m\n",
            "File \u001b[0;32m/lib/python3.12/site-packages/pandas/io/parsers/readers.py:620\u001b[0m, in \u001b[0;36m_read\u001b[0;34m(filepath_or_buffer, kwds)\u001b[0m\n\u001b[1;32m    617\u001b[0m _validate_names(kwds\u001b[38;5;241m.\u001b[39mget(\u001b[38;5;124m\"\u001b[39m\u001b[38;5;124mnames\u001b[39m\u001b[38;5;124m\"\u001b[39m, \u001b[38;5;28;01mNone\u001b[39;00m))\n\u001b[1;32m    619\u001b[0m \u001b[38;5;66;03m# Create the parser.\u001b[39;00m\n\u001b[0;32m--> 620\u001b[0m parser \u001b[38;5;241m=\u001b[39m \u001b[43mTextFileReader\u001b[49m\u001b[43m(\u001b[49m\u001b[43mfilepath_or_buffer\u001b[49m\u001b[43m,\u001b[49m\u001b[43m \u001b[49m\u001b[38;5;241;43m*\u001b[39;49m\u001b[38;5;241;43m*\u001b[39;49m\u001b[43mkwds\u001b[49m\u001b[43m)\u001b[49m\n\u001b[1;32m    622\u001b[0m \u001b[38;5;28;01mif\u001b[39;00m chunksize \u001b[38;5;129;01mor\u001b[39;00m iterator:\n\u001b[1;32m    623\u001b[0m     \u001b[38;5;28;01mreturn\u001b[39;00m parser\n",
            "File \u001b[0;32m/lib/python3.12/site-packages/pandas/io/parsers/readers.py:1620\u001b[0m, in \u001b[0;36mTextFileReader.__init__\u001b[0;34m(self, f, engine, **kwds)\u001b[0m\n\u001b[1;32m   1617\u001b[0m     \u001b[38;5;28mself\u001b[39m\u001b[38;5;241m.\u001b[39moptions[\u001b[38;5;124m\"\u001b[39m\u001b[38;5;124mhas_index_names\u001b[39m\u001b[38;5;124m\"\u001b[39m] \u001b[38;5;241m=\u001b[39m kwds[\u001b[38;5;124m\"\u001b[39m\u001b[38;5;124mhas_index_names\u001b[39m\u001b[38;5;124m\"\u001b[39m]\n\u001b[1;32m   1619\u001b[0m \u001b[38;5;28mself\u001b[39m\u001b[38;5;241m.\u001b[39mhandles: IOHandles \u001b[38;5;241m|\u001b[39m \u001b[38;5;28;01mNone\u001b[39;00m \u001b[38;5;241m=\u001b[39m \u001b[38;5;28;01mNone\u001b[39;00m\n\u001b[0;32m-> 1620\u001b[0m \u001b[38;5;28mself\u001b[39m\u001b[38;5;241m.\u001b[39m_engine \u001b[38;5;241m=\u001b[39m \u001b[38;5;28;43mself\u001b[39;49m\u001b[38;5;241;43m.\u001b[39;49m\u001b[43m_make_engine\u001b[49m\u001b[43m(\u001b[49m\u001b[43mf\u001b[49m\u001b[43m,\u001b[49m\u001b[43m \u001b[49m\u001b[38;5;28;43mself\u001b[39;49m\u001b[38;5;241;43m.\u001b[39;49m\u001b[43mengine\u001b[49m\u001b[43m)\u001b[49m\n",
            "File \u001b[0;32m/lib/python3.12/site-packages/pandas/io/parsers/readers.py:1880\u001b[0m, in \u001b[0;36mTextFileReader._make_engine\u001b[0;34m(self, f, engine)\u001b[0m\n\u001b[1;32m   1878\u001b[0m     \u001b[38;5;28;01mif\u001b[39;00m \u001b[38;5;124m\"\u001b[39m\u001b[38;5;124mb\u001b[39m\u001b[38;5;124m\"\u001b[39m \u001b[38;5;129;01mnot\u001b[39;00m \u001b[38;5;129;01min\u001b[39;00m mode:\n\u001b[1;32m   1879\u001b[0m         mode \u001b[38;5;241m+\u001b[39m\u001b[38;5;241m=\u001b[39m \u001b[38;5;124m\"\u001b[39m\u001b[38;5;124mb\u001b[39m\u001b[38;5;124m\"\u001b[39m\n\u001b[0;32m-> 1880\u001b[0m \u001b[38;5;28mself\u001b[39m\u001b[38;5;241m.\u001b[39mhandles \u001b[38;5;241m=\u001b[39m \u001b[43mget_handle\u001b[49m\u001b[43m(\u001b[49m\n\u001b[1;32m   1881\u001b[0m \u001b[43m    \u001b[49m\u001b[43mf\u001b[49m\u001b[43m,\u001b[49m\n\u001b[1;32m   1882\u001b[0m \u001b[43m    \u001b[49m\u001b[43mmode\u001b[49m\u001b[43m,\u001b[49m\n\u001b[1;32m   1883\u001b[0m \u001b[43m    \u001b[49m\u001b[43mencoding\u001b[49m\u001b[38;5;241;43m=\u001b[39;49m\u001b[38;5;28;43mself\u001b[39;49m\u001b[38;5;241;43m.\u001b[39;49m\u001b[43moptions\u001b[49m\u001b[38;5;241;43m.\u001b[39;49m\u001b[43mget\u001b[49m\u001b[43m(\u001b[49m\u001b[38;5;124;43m\"\u001b[39;49m\u001b[38;5;124;43mencoding\u001b[39;49m\u001b[38;5;124;43m\"\u001b[39;49m\u001b[43m,\u001b[49m\u001b[43m \u001b[49m\u001b[38;5;28;43;01mNone\u001b[39;49;00m\u001b[43m)\u001b[49m\u001b[43m,\u001b[49m\n\u001b[1;32m   1884\u001b[0m \u001b[43m    \u001b[49m\u001b[43mcompression\u001b[49m\u001b[38;5;241;43m=\u001b[39;49m\u001b[38;5;28;43mself\u001b[39;49m\u001b[38;5;241;43m.\u001b[39;49m\u001b[43moptions\u001b[49m\u001b[38;5;241;43m.\u001b[39;49m\u001b[43mget\u001b[49m\u001b[43m(\u001b[49m\u001b[38;5;124;43m\"\u001b[39;49m\u001b[38;5;124;43mcompression\u001b[39;49m\u001b[38;5;124;43m\"\u001b[39;49m\u001b[43m,\u001b[49m\u001b[43m \u001b[49m\u001b[38;5;28;43;01mNone\u001b[39;49;00m\u001b[43m)\u001b[49m\u001b[43m,\u001b[49m\n\u001b[1;32m   1885\u001b[0m \u001b[43m    \u001b[49m\u001b[43mmemory_map\u001b[49m\u001b[38;5;241;43m=\u001b[39;49m\u001b[38;5;28;43mself\u001b[39;49m\u001b[38;5;241;43m.\u001b[39;49m\u001b[43moptions\u001b[49m\u001b[38;5;241;43m.\u001b[39;49m\u001b[43mget\u001b[49m\u001b[43m(\u001b[49m\u001b[38;5;124;43m\"\u001b[39;49m\u001b[38;5;124;43mmemory_map\u001b[39;49m\u001b[38;5;124;43m\"\u001b[39;49m\u001b[43m,\u001b[49m\u001b[43m \u001b[49m\u001b[38;5;28;43;01mFalse\u001b[39;49;00m\u001b[43m)\u001b[49m\u001b[43m,\u001b[49m\n\u001b[1;32m   1886\u001b[0m \u001b[43m    \u001b[49m\u001b[43mis_text\u001b[49m\u001b[38;5;241;43m=\u001b[39;49m\u001b[43mis_text\u001b[49m\u001b[43m,\u001b[49m\n\u001b[1;32m   1887\u001b[0m \u001b[43m    \u001b[49m\u001b[43merrors\u001b[49m\u001b[38;5;241;43m=\u001b[39;49m\u001b[38;5;28;43mself\u001b[39;49m\u001b[38;5;241;43m.\u001b[39;49m\u001b[43moptions\u001b[49m\u001b[38;5;241;43m.\u001b[39;49m\u001b[43mget\u001b[49m\u001b[43m(\u001b[49m\u001b[38;5;124;43m\"\u001b[39;49m\u001b[38;5;124;43mencoding_errors\u001b[39;49m\u001b[38;5;124;43m\"\u001b[39;49m\u001b[43m,\u001b[49m\u001b[43m \u001b[49m\u001b[38;5;124;43m\"\u001b[39;49m\u001b[38;5;124;43mstrict\u001b[39;49m\u001b[38;5;124;43m\"\u001b[39;49m\u001b[43m)\u001b[49m\u001b[43m,\u001b[49m\n\u001b[1;32m   1888\u001b[0m \u001b[43m    \u001b[49m\u001b[43mstorage_options\u001b[49m\u001b[38;5;241;43m=\u001b[39;49m\u001b[38;5;28;43mself\u001b[39;49m\u001b[38;5;241;43m.\u001b[39;49m\u001b[43moptions\u001b[49m\u001b[38;5;241;43m.\u001b[39;49m\u001b[43mget\u001b[49m\u001b[43m(\u001b[49m\u001b[38;5;124;43m\"\u001b[39;49m\u001b[38;5;124;43mstorage_options\u001b[39;49m\u001b[38;5;124;43m\"\u001b[39;49m\u001b[43m,\u001b[49m\u001b[43m \u001b[49m\u001b[38;5;28;43;01mNone\u001b[39;49;00m\u001b[43m)\u001b[49m\u001b[43m,\u001b[49m\n\u001b[1;32m   1889\u001b[0m \u001b[43m\u001b[49m\u001b[43m)\u001b[49m\n\u001b[1;32m   1890\u001b[0m \u001b[38;5;28;01massert\u001b[39;00m \u001b[38;5;28mself\u001b[39m\u001b[38;5;241m.\u001b[39mhandles \u001b[38;5;129;01mis\u001b[39;00m \u001b[38;5;129;01mnot\u001b[39;00m \u001b[38;5;28;01mNone\u001b[39;00m\n\u001b[1;32m   1891\u001b[0m f \u001b[38;5;241m=\u001b[39m \u001b[38;5;28mself\u001b[39m\u001b[38;5;241m.\u001b[39mhandles\u001b[38;5;241m.\u001b[39mhandle\n",
            "File \u001b[0;32m/lib/python3.12/site-packages/pandas/io/common.py:873\u001b[0m, in \u001b[0;36mget_handle\u001b[0;34m(path_or_buf, mode, encoding, compression, memory_map, is_text, errors, storage_options)\u001b[0m\n\u001b[1;32m    868\u001b[0m \u001b[38;5;28;01melif\u001b[39;00m \u001b[38;5;28misinstance\u001b[39m(handle, \u001b[38;5;28mstr\u001b[39m):\n\u001b[1;32m    869\u001b[0m     \u001b[38;5;66;03m# Check whether the filename is to be opened in binary mode.\u001b[39;00m\n\u001b[1;32m    870\u001b[0m     \u001b[38;5;66;03m# Binary mode does not support 'encoding' and 'newline'.\u001b[39;00m\n\u001b[1;32m    871\u001b[0m     \u001b[38;5;28;01mif\u001b[39;00m ioargs\u001b[38;5;241m.\u001b[39mencoding \u001b[38;5;129;01mand\u001b[39;00m \u001b[38;5;124m\"\u001b[39m\u001b[38;5;124mb\u001b[39m\u001b[38;5;124m\"\u001b[39m \u001b[38;5;129;01mnot\u001b[39;00m \u001b[38;5;129;01min\u001b[39;00m ioargs\u001b[38;5;241m.\u001b[39mmode:\n\u001b[1;32m    872\u001b[0m         \u001b[38;5;66;03m# Encoding\u001b[39;00m\n\u001b[0;32m--> 873\u001b[0m         handle \u001b[38;5;241m=\u001b[39m \u001b[38;5;28;43mopen\u001b[39;49m\u001b[43m(\u001b[49m\n\u001b[1;32m    874\u001b[0m \u001b[43m            \u001b[49m\u001b[43mhandle\u001b[49m\u001b[43m,\u001b[49m\n\u001b[1;32m    875\u001b[0m \u001b[43m            \u001b[49m\u001b[43mioargs\u001b[49m\u001b[38;5;241;43m.\u001b[39;49m\u001b[43mmode\u001b[49m\u001b[43m,\u001b[49m\n\u001b[1;32m    876\u001b[0m \u001b[43m            \u001b[49m\u001b[43mencoding\u001b[49m\u001b[38;5;241;43m=\u001b[39;49m\u001b[43mioargs\u001b[49m\u001b[38;5;241;43m.\u001b[39;49m\u001b[43mencoding\u001b[49m\u001b[43m,\u001b[49m\n\u001b[1;32m    877\u001b[0m \u001b[43m            \u001b[49m\u001b[43merrors\u001b[49m\u001b[38;5;241;43m=\u001b[39;49m\u001b[43merrors\u001b[49m\u001b[43m,\u001b[49m\n\u001b[1;32m    878\u001b[0m \u001b[43m            \u001b[49m\u001b[43mnewline\u001b[49m\u001b[38;5;241;43m=\u001b[39;49m\u001b[38;5;124;43m\"\u001b[39;49m\u001b[38;5;124;43m\"\u001b[39;49m\u001b[43m,\u001b[49m\n\u001b[1;32m    879\u001b[0m \u001b[43m        \u001b[49m\u001b[43m)\u001b[49m\n\u001b[1;32m    880\u001b[0m     \u001b[38;5;28;01melse\u001b[39;00m:\n\u001b[1;32m    881\u001b[0m         \u001b[38;5;66;03m# Binary mode\u001b[39;00m\n\u001b[1;32m    882\u001b[0m         handle \u001b[38;5;241m=\u001b[39m \u001b[38;5;28mopen\u001b[39m(handle, ioargs\u001b[38;5;241m.\u001b[39mmode)\n",
            "\u001b[0;31mFileNotFoundError\u001b[0m: [Errno 44] No such file or directory: 'datasets\\\\penguins.csv'"
          ],
          "output_type": "error"
        }
      ],
      "execution_count": 2
    },
    {
      "id": "f66202db-fee9-4d78-96ab-1a4efd73a86c",
      "cell_type": "code",
      "source": "penguins",
      "metadata": {
        "trusted": true
      },
      "outputs": [],
      "execution_count": null
    },
    {
      "id": "66024a8b-3f9d-445c-8b07-7baae8b7237d",
      "cell_type": "markdown",
      "source": "<h1>DESCRIPTIVE ANALYTICS</h1>",
      "metadata": {}
    },
    {
      "id": "e9629fee-5395-40dc-9f83-7cb7d7ac2f69",
      "cell_type": "code",
      "source": "penguins.describe()",
      "metadata": {
        "trusted": true
      },
      "outputs": [],
      "execution_count": null
    },
    {
      "id": "27305bce-92fb-477f-9539-f95f5be062a0",
      "cell_type": "code",
      "source": "penguins.describe().T",
      "metadata": {
        "trusted": true
      },
      "outputs": [],
      "execution_count": null
    },
    {
      "id": "7b4230ce-d541-4c2e-943e-f6f3ec4ca119",
      "cell_type": "markdown",
      "source": "<h2>Checking for Null Values</h2>",
      "metadata": {}
    },
    {
      "id": "f093a246-f61b-4c19-9df4-bbf62b795d39",
      "cell_type": "code",
      "source": "penguins.isnull()",
      "metadata": {
        "trusted": true
      },
      "outputs": [],
      "execution_count": null
    },
    {
      "id": "e97f0793-feeb-4c3a-924f-0d872e23c438",
      "cell_type": "markdown",
      "source": "<h2>Summarizing Null Values</h2>",
      "metadata": {}
    },
    {
      "id": "bcc39d5d-3b71-441b-963f-7b9e4588c2c0",
      "cell_type": "code",
      "source": "penguins.isnull().sum()",
      "metadata": {
        "trusted": true
      },
      "outputs": [],
      "execution_count": null
    },
    {
      "id": "5b3c6cec-8aec-4d4b-8b80-6781905efc38",
      "cell_type": "code",
      "source": "penguins['species']",
      "metadata": {
        "trusted": true
      },
      "outputs": [],
      "execution_count": null
    },
    {
      "id": "90eb7607-3f81-4eb1-b231-6fc4249191a5",
      "cell_type": "code",
      "source": "penguins['species'].value_counts()",
      "metadata": {
        "trusted": true
      },
      "outputs": [],
      "execution_count": null
    },
    {
      "id": "6d859787-d21c-45ca-bb3f-9ba3fad0a397",
      "cell_type": "markdown",
      "source": "<h2>Filtering a Datasets</h2>",
      "metadata": {}
    },
    {
      "id": "2fb3d537-2c71-4324-b3e3-4d955718f13f",
      "cell_type": "code",
      "source": "penguins[penguins['species'] == 'Adelie']",
      "metadata": {
        "trusted": true
      },
      "outputs": [],
      "execution_count": null
    },
    {
      "id": "f392e758-b0ff-497b-b257-33dad8e7e880",
      "cell_type": "code",
      "source": "penguins[penguins['species'] == 'Chinstrap']",
      "metadata": {
        "trusted": true
      },
      "outputs": [],
      "execution_count": null
    },
    {
      "id": "41afa75a-8b8a-4391-8e9a-69f62af27f59",
      "cell_type": "code",
      "source": "penguins[penguins['species'] == 'Gentoo']",
      "metadata": {
        "trusted": true
      },
      "outputs": [],
      "execution_count": null
    },
    {
      "id": "83539391-6653-4367-a81c-52bdd4912d9e",
      "cell_type": "markdown",
      "source": "<h2>Assigning variable Name</h2>",
      "metadata": {}
    },
    {
      "id": "6dedcf24-dc3c-4373-b8cb-67009baa0a1f",
      "cell_type": "code",
      "source": "adelie_df = penguins[penguins['species'] == 'Adelie']\nadelie_df",
      "metadata": {
        "trusted": true
      },
      "outputs": [],
      "execution_count": null
    },
    {
      "id": "ec2e05da-069e-4bdd-82c1-65a911cacb36",
      "cell_type": "code",
      "source": "chinstrap_df = penguins[penguins['species'] == 'Chinstrap']\nchinstrap_df",
      "metadata": {
        "trusted": true
      },
      "outputs": [],
      "execution_count": null
    },
    {
      "id": "f8864f8a-6c76-4e58-9984-516330297612",
      "cell_type": "code",
      "source": "chinstrap_df = penguins[penguins['species'] == 'Gentoo']\nchinstrap_df",
      "metadata": {
        "trusted": true
      },
      "outputs": [],
      "execution_count": null
    },
    {
      "id": "8c85227d-1b6a-4767-847e-dd098e7be905",
      "cell_type": "code",
      "source": "chinstrap = penguins[(penguins['species'] == 'Chinstrap') & (penguins['body_mass_g'] >= 1000)]",
      "metadata": {
        "trusted": true
      },
      "outputs": [],
      "execution_count": null
    },
    {
      "id": "df7c7b27-9ce2-4e53-a68e-5e5358194b7b",
      "cell_type": "code",
      "source": "chinstrap",
      "metadata": {
        "trusted": true
      },
      "outputs": [],
      "execution_count": null
    },
    {
      "id": "768ad0fc-df12-489d-bf40-7c6de9ea4c16",
      "cell_type": "code",
      "source": "penguins.info()",
      "metadata": {
        "trusted": true
      },
      "outputs": [],
      "execution_count": null
    },
    {
      "id": "04fe9e4f-7556-4ca4-9f45-3146034dabc5",
      "cell_type": "code",
      "source": "penguins['species'] = penguins['species'].astype('category')\npenguins['island'] = penguins['island'].astype('category')\npenguins['year'] = penguins['year'].astype('category')\npenguins['sex'] = penguins['sex'].astype('category')",
      "metadata": {
        "trusted": true
      },
      "outputs": [],
      "execution_count": null
    },
    {
      "id": "ab696afc-e0a2-423b-ae47-6f55e67263be",
      "cell_type": "code",
      "source": "penguins.info()",
      "metadata": {
        "trusted": true
      },
      "outputs": [],
      "execution_count": null
    },
    {
      "id": "2a5fd6fa-6680-4c68-9e9c-4334106950d3",
      "cell_type": "markdown",
      "source": "<h1>FILLING UP NULL VALUES</h1>",
      "metadata": {}
    },
    {
      "id": "d660617e-6a08-4e01-bfc0-bf381a7ad753",
      "cell_type": "code",
      "source": "penguins.isnull().sum()",
      "metadata": {
        "trusted": true
      },
      "outputs": [],
      "execution_count": null
    },
    {
      "id": "87f1a1f6-ab70-4ff3-9a53-333b5d613ef1",
      "cell_type": "code",
      "source": "penguins['bill_length_mm'].mean()",
      "metadata": {
        "trusted": true
      },
      "outputs": [],
      "execution_count": null
    },
    {
      "id": "c7289e2f-4ceb-46c5-bbfc-493afbc2c620",
      "cell_type": "code",
      "source": "penguins['bill_length_mm'] = penguins['bill_length_mm'].fillna(penguins['bill_length_mm'].mean())",
      "metadata": {
        "trusted": true
      },
      "outputs": [],
      "execution_count": null
    },
    {
      "id": "d950315d-278f-41a6-94c6-3c6cd4226300",
      "cell_type": "code",
      "source": "penguins.isnull().sum()",
      "metadata": {
        "trusted": true
      },
      "outputs": [],
      "execution_count": null
    },
    {
      "id": "409ea3b6-2205-4643-9336-3f2fbae1ee6c",
      "cell_type": "code",
      "source": "penguins['bill_depth_mm'].mean()",
      "metadata": {
        "trusted": true
      },
      "outputs": [],
      "execution_count": null
    },
    {
      "id": "f0ebc9ef-5e5d-4651-9026-a2de40a7eafa",
      "cell_type": "code",
      "source": "penguins['bill_depth_mm'] = penguins['bill_depth_mm'].fillna(penguins['bill_depth_mm'].mean())",
      "metadata": {
        "trusted": true
      },
      "outputs": [],
      "execution_count": null
    },
    {
      "id": "3a764ce0-f33c-44e6-91c7-8df55ff4035d",
      "cell_type": "code",
      "source": "penguins.isnull().sum()",
      "metadata": {
        "trusted": true
      },
      "outputs": [],
      "execution_count": null
    },
    {
      "id": "da8aef96-8a4b-41e4-ab45-8a5dbd25a8b8",
      "cell_type": "code",
      "source": "penguins['flipper_length_mm'].mean()",
      "metadata": {
        "trusted": true
      },
      "outputs": [],
      "execution_count": null
    },
    {
      "id": "37631458-eef6-450b-8514-eb8a63b85221",
      "cell_type": "code",
      "source": "penguins['flipper_length_mm'] = penguins['flipper_length_mm'].fillna(penguins['flipper_length_mm'].mean())",
      "metadata": {
        "trusted": true
      },
      "outputs": [],
      "execution_count": null
    },
    {
      "id": "f1ba5d61-1f4c-40a8-aa66-17781100c357",
      "cell_type": "code",
      "source": "penguins.isnull().sum()",
      "metadata": {
        "trusted": true
      },
      "outputs": [],
      "execution_count": null
    },
    {
      "id": "dd3222f7-e4c6-4f68-92ab-30a2a697b1f8",
      "cell_type": "code",
      "source": "penguins['body_mass_g'].mean()",
      "metadata": {
        "trusted": true
      },
      "outputs": [],
      "execution_count": null
    },
    {
      "id": "ba7dca98-0077-4e4d-ab91-4f8bb0089dc4",
      "cell_type": "code",
      "source": "penguins['body_mass_g'] = penguins['body_mass_g'].fillna(penguins['body_mass_g'].mean())",
      "metadata": {
        "trusted": true
      },
      "outputs": [],
      "execution_count": null
    },
    {
      "id": "f63926cb-a20b-4b02-8ca0-64c8e9c53146",
      "cell_type": "code",
      "source": "penguins.isnull().sum()",
      "metadata": {
        "trusted": true
      },
      "outputs": [],
      "execution_count": null
    },
    {
      "id": "fb256c83-c399-4f7d-b5fe-ae40ac401a74",
      "cell_type": "code",
      "source": "penguins['sex'].mode()",
      "metadata": {
        "trusted": true
      },
      "outputs": [],
      "execution_count": null
    },
    {
      "id": "173d734e-979d-49ec-84ca-7448e6cbd77f",
      "cell_type": "code",
      "source": "penguins['sex'] = penguins['sex'].fillna(penguins['sex'].mode()[0])",
      "metadata": {
        "trusted": true
      },
      "outputs": [],
      "execution_count": null
    },
    {
      "id": "ebcad278-f539-4663-ba87-4001ce378a7f",
      "cell_type": "code",
      "source": "penguins.isnull().sum()",
      "metadata": {
        "trusted": true
      },
      "outputs": [],
      "execution_count": null
    },
    {
      "id": "473fa60f-78f3-442d-bc9a-21fd8be9984a",
      "cell_type": "code",
      "source": "penguins.columns",
      "metadata": {
        "trusted": true
      },
      "outputs": [],
      "execution_count": null
    },
    {
      "id": "25a5c771-87dd-4c28-8051-b1f26f1eb8d7",
      "cell_type": "code",
      "source": "penguins['mass_kg'] = np.round(penguins['body_mass_g'] / 1000, 1)\npenguins",
      "metadata": {
        "trusted": true
      },
      "outputs": [],
      "execution_count": null
    },
    {
      "id": "705d3395-3d35-467d-aca0-e9177d797dc7",
      "cell_type": "markdown",
      "source": "<h1>Questions</h1>",
      "metadata": {}
    },
    {
      "id": "245bf41c-0b71-4b7e-a30e-b95d0caefafe",
      "cell_type": "markdown",
      "source": "<hr>\n<h1>Q1</h1>\n<h2>Which penguin species has the highest average body mass?</h2>",
      "metadata": {}
    },
    {
      "id": "aaae55eb-7c7d-4fd3-9b8b-76fa01f52348",
      "cell_type": "code",
      "source": "penguins.groupby(\"species\", observed=True)[\"body_mass_g\"].mean().sort_values(ascending=False)",
      "metadata": {
        "trusted": true
      },
      "outputs": [],
      "execution_count": null
    },
    {
      "id": "f5c14fd3-337b-4b6e-9313-d274f6e6b93b",
      "cell_type": "markdown",
      "source": "<h2>INSIGHT</h2>\n<h3>The highest average body mass is Gentoo.</h3>",
      "metadata": {}
    },
    {
      "id": "c87cdaed-f775-4159-9632-2930ed5c481d",
      "cell_type": "markdown",
      "source": "<hr>\n<h1>Q2</h1>\n<h2>Which island has the most penguin observations?</h2>",
      "metadata": {}
    },
    {
      "id": "f2eba72c-f98d-4934-961b-5ccf974ebdbd",
      "cell_type": "code",
      "source": "penguins[\"island\"].value_counts()",
      "metadata": {
        "trusted": true
      },
      "outputs": [],
      "execution_count": null
    },
    {
      "id": "af9d28df-06f3-4c9b-ad06-28160027a687",
      "cell_type": "markdown",
      "source": "<h2>INSIGHT</h2>\n<h3>The island have the most penguin observation is Biscoe.</h3>",
      "metadata": {}
    },
    {
      "id": "3c918457-4710-4e46-b4e8-c147cf9288da",
      "cell_type": "markdown",
      "source": "<hr>\n<h1>Q3</h1>\n<h2>What are the average bill length and depth for each species?</h2>",
      "metadata": {}
    },
    {
      "id": "4accb140-47b6-4aa2-8fac-c83e7bd3d105",
      "cell_type": "code",
      "source": "penguins.groupby(\"species\", observed=True)[[\"bill_length_mm\", \"bill_depth_mm\"]].mean()",
      "metadata": {
        "trusted": true
      },
      "outputs": [],
      "execution_count": null
    },
    {
      "id": "06330e2a-9c71-4182-97bf-6e0949d1ca2a",
      "cell_type": "markdown",
      "source": "<h2>INSIGHT</h2>\n<h3>The top penguin bill length and depth is Adelie.</h3>",
      "metadata": {}
    },
    {
      "id": "2d1f4a2c-0ac2-4c99-8795-0fcf56c38181",
      "cell_type": "markdown",
      "source": "<hr>\n<h1>Q4</h1>\n<h2>Which species has the longest average flipper length?</h2>",
      "metadata": {}
    },
    {
      "id": "a0def851-fb97-46cf-bea8-89ba4e744818",
      "cell_type": "code",
      "source": "penguins.groupby(\"species\", observed=True)[\"flipper_length_mm\"].mean().sort_values(ascending=False)\n",
      "metadata": {
        "trusted": true
      },
      "outputs": [],
      "execution_count": null
    },
    {
      "id": "3d9fa7da-70fd-4a1f-a031-dc562e669e83",
      "cell_type": "markdown",
      "source": "<h2>INSIGHT</h2>\n<h3>The longer average flipper length is Gentoo.</h3>",
      "metadata": {}
    },
    {
      "id": "30414ad9-c1ab-482d-88d8-f7a888ee81ad",
      "cell_type": "markdown",
      "source": "<hr>\n<h1>Q5</h1>\n<h2>Do male penguins weight more than female penguins?</h2>",
      "metadata": {}
    },
    {
      "id": "e3715b9c-b5af-4b3f-818b-936fdcd62903",
      "cell_type": "code",
      "source": "penguins.groupby(\"sex\", observed=True)[\"body_mass_g\"].mean()",
      "metadata": {
        "trusted": true
      },
      "outputs": [],
      "execution_count": null
    },
    {
      "id": "292fc023-a613-419a-9493-666279b73b7d",
      "cell_type": "markdown",
      "source": "<h2>INSIGHT</h2>\n<h3>So female was heavier than male penguins.</h3>",
      "metadata": {}
    },
    {
      "id": "4bee883f-a8f7-4c5d-8df8-39fc20df4aed",
      "cell_type": "markdown",
      "source": "<hr>\n<h1>Q6</h1>\n<h2>What is the average body mass of each species per island?</h2>",
      "metadata": {}
    },
    {
      "id": "1736e812-4f04-4f80-af9d-8d9b8d8be653",
      "cell_type": "code",
      "source": "island = penguins.groupby([\"island\", \"species\"], observed=True)[\"body_mass_g\"].mean()\nisland",
      "metadata": {
        "trusted": true
      },
      "outputs": [],
      "execution_count": null
    },
    {
      "id": "c871be8e-6f60-4398-b153-1fd8a2ab4282",
      "cell_type": "markdown",
      "source": "<h2>INSIGHT</h2>\n<h3>This reveals that in biscoe have the most heaviest body mass species.</h3>",
      "metadata": {}
    },
    {
      "id": "63788d49-cef6-4b9f-83fc-d64fefcbc461",
      "cell_type": "markdown",
      "source": "<hr>\n<h1>Q7</h1>\n<h2>How many penguins were observed each year?</h2>",
      "metadata": {}
    },
    {
      "id": "0bd7c958-1a10-4b10-91a5-6ee128906dd2",
      "cell_type": "code",
      "source": "penguins[\"year\"].value_counts().sort_index()",
      "metadata": {
        "trusted": true
      },
      "outputs": [],
      "execution_count": null
    },
    {
      "id": "27b4d051-c4bb-492c-a323-cde9443bb3fd",
      "cell_type": "markdown",
      "source": "<h2>INSIGHT</h2>\n<h3>The year have the most observed penguins was 2007.</h3>",
      "metadata": {}
    },
    {
      "id": "c91c466d-2d1d-4946-9451-3a0f9b41558f",
      "cell_type": "markdown",
      "source": "<hr>\n<h1>Q8</h1>\n<h2>What is the average body mass of Male Gentoo penguins on Bis?</h2>",
      "metadata": {}
    },
    {
      "id": "59735ccd-4408-420d-a36c-6e4a7e0498ce",
      "cell_type": "code",
      "source": "penguin = penguins[(penguins['species'] == 'Gentoo') & (penguins['island'] == 'Biscoe') & (penguins['sex'] == 'male')]['body_mass_g'].mean()\npenguin",
      "metadata": {
        "trusted": true
      },
      "outputs": [],
      "execution_count": null
    },
    {
      "id": "bdd917d9-3b7b-4a9e-a57a-2d035885bcb4",
      "cell_type": "markdown",
      "source": "<h2>INSIGHT</h2>\n<h3>Gentoo males are very heavy, average about 5.48 kg if it's calculated.</h3>",
      "metadata": {}
    },
    {
      "id": "d852ebb0-5a99-466b-b3d9-594dfb75eba6",
      "cell_type": "markdown",
      "source": "<hr>\n<h1>Q9</h1>\n<h2>What Species with longest average flipper length?</h2>",
      "metadata": {}
    },
    {
      "id": "ea916c8b-3697-47f9-8a68-9acba1f8ef07",
      "cell_type": "code",
      "source": "avg_flipper = penguins.groupby('species')['flipper_length_mm'].mean()\nlongest_avg_flipper = avg_flipper.idxmax()\nlongest_avg_flipper",
      "metadata": {
        "trusted": true
      },
      "outputs": [],
      "execution_count": null
    },
    {
      "id": "3fbb6f82-bde9-48d4-bfc0-b5dc93ba415a",
      "cell_type": "markdown",
      "source": "<h2>INSIGHT</h2>\n<h3>Gentoo penguins have the longest flippers, which helps to swim faster.</h3>",
      "metadata": {}
    },
    {
      "id": "e1f4c5ac-1cb1-40c1-9ad8-35832c5de606",
      "cell_type": "markdown",
      "source": "<hr>\n<h1>Q10</h1>\n<h2>What Islands where Chinstrap penguins were observed?</h2>",
      "metadata": {}
    },
    {
      "id": "807046c8-e5c5-491a-968b-6b7adba8c269",
      "cell_type": "code",
      "source": "chinstrap = penguins[penguins['species'] == 'Chinstrap']['island'].unique().tolist()\nchinstrap",
      "metadata": {
        "trusted": true
      },
      "outputs": [],
      "execution_count": null
    },
    {
      "id": "0e7d4bb9-80e4-4a6c-afc9-0e03e0f22cfb",
      "cell_type": "markdown",
      "source": "<h2>INSIGHT</h2>\n<h3>Chinstrap penguins live only in Dream Island in this dataset.</h3>",
      "metadata": {
        "jp-MarkdownHeadingCollapsed": true
      }
    },
    {
      "id": "9bd57d89-3306-4c2f-a1d4-a5d40d77af40",
      "cell_type": "markdown",
      "source": "<hr>\n<h1>Q11</h1>\n<h2>Difference in average bill length between male and female Adelie penguins?</h2>",
      "metadata": {}
    },
    {
      "id": "389ff84f-3231-4eef-82dc-0c7048438b31",
      "cell_type": "code",
      "source": "male_adelie = penguins[(penguins['species'] == 'Adelie') & (penguins['sex'] == 'male')]['bill_length_mm'].mean()\nfemale_adelie = penguins[(penguins['species'] == 'Adelie') & (penguins['sex'] == 'female')]['bill_length_mm'].mean()\noverall_adelie = male_adelie - female_adelie\noverall_adelie",
      "metadata": {
        "trusted": true
      },
      "outputs": [],
      "execution_count": null
    },
    {
      "id": "7f85dfea-3b2f-46e4-a722-fe8a1adaef30",
      "cell_type": "markdown",
      "source": "<h2>INSIGHT</h2>\n<h3>Male Adelie penguins have slight longer bills thans females.</h3>",
      "metadata": {
        "jp-MarkdownHeadingCollapsed": true
      }
    },
    {
      "id": "fa6c314e-7911-4bd7-82d6-073ba77a320d",
      "cell_type": "markdown",
      "source": "<hr>\n<h1>Q12</h1>\n<h2>What's the most heaviest penguin and its species?</h2>",
      "metadata": {}
    },
    {
      "id": "4f5e29d0-874a-478d-8c52-50d8d48627d8",
      "cell_type": "code",
      "source": "heaviest = penguins.loc[penguins['body_mass_g'].idxmax(), ['species', 'body_mass_g']]\nheaviest",
      "metadata": {
        "trusted": true
      },
      "outputs": [],
      "execution_count": null
    },
    {
      "id": "935e5f23-6030-4e2b-a4a9-713e048c50c8",
      "cell_type": "markdown",
      "source": "<h2>INSIGHT</h2>\n<h3>The heaviest penguin is Gentoo.</h3>",
      "metadata": {
        "jp-MarkdownHeadingCollapsed": true
      }
    },
    {
      "id": "e3df5e25-7c84-48e8-942d-dbfe7cd80aae",
      "cell_type": "markdown",
      "source": "<hr>\n<h1>Q13</h1>\n<h2>what's the minimum flipper length among Chinstrap penguins?</h2>",
      "metadata": {}
    },
    {
      "id": "2dd49a05-9e39-4e7f-a875-6d41ef71a720",
      "cell_type": "code",
      "source": "min_flipper = df[df['species'] == 'Chinstrap']['flipper_length_mm'].min()\nmin_flipper",
      "metadata": {
        "trusted": true
      },
      "outputs": [],
      "execution_count": null
    },
    {
      "id": "b97b383c-3189-4e5e-938c-c530ac1c7bb8",
      "cell_type": "markdown",
      "source": "<h2>INSIGHT</h2>\n<h3>The shortest flipper for Chinstrap penguins is 178 mm, which smalleer than Gentoo's.</h3>",
      "metadata": {}
    }
  ]
}